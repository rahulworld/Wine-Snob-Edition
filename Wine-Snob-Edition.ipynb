{
 "cells": [
  {
   "cell_type": "code",
   "execution_count": 8,
   "metadata": {},
   "outputs": [],
   "source": [
    "import pandas as pd\n",
    "dataset_url = 'http://mlr.cs.umass.edu/ml/machine-learning-databases/wine-quality/winequality-red.csv'\n",
    "data = pd.read_csv(dataset_url, sep=';')"
   ]
  },
  {
   "cell_type": "code",
   "execution_count": 9,
   "metadata": {},
   "outputs": [
    {
     "name": "stdout",
     "output_type": "stream",
     "text": [
      "   fixed acidity  volatile acidity  citric acid  residual sugar  chlorides  \\\n",
      "0            7.4              0.70         0.00             1.9      0.076   \n",
      "1            7.8              0.88         0.00             2.6      0.098   \n",
      "2            7.8              0.76         0.04             2.3      0.092   \n",
      "3           11.2              0.28         0.56             1.9      0.075   \n",
      "4            7.4              0.70         0.00             1.9      0.076   \n",
      "\n",
      "   free sulfur dioxide  total sulfur dioxide  density    pH  sulphates  \\\n",
      "0                 11.0                  34.0   0.9978  3.51       0.56   \n",
      "1                 25.0                  67.0   0.9968  3.20       0.68   \n",
      "2                 15.0                  54.0   0.9970  3.26       0.65   \n",
      "3                 17.0                  60.0   0.9980  3.16       0.58   \n",
      "4                 11.0                  34.0   0.9978  3.51       0.56   \n",
      "\n",
      "   alcohol  quality  \n",
      "0      9.4        5  \n",
      "1      9.8        5  \n",
      "2      9.8        5  \n",
      "3      9.8        6  \n",
      "4      9.4        5  \n"
     ]
    }
   ],
   "source": [
    "print(data.head())"
   ]
  },
  {
   "cell_type": "code",
   "execution_count": 10,
   "metadata": {},
   "outputs": [
    {
     "name": "stdout",
     "output_type": "stream",
     "text": [
      "0    0.70\n",
      "1    0.88\n",
      "2    0.76\n",
      "3    0.28\n",
      "4    0.70\n",
      "Name: volatile acidity, dtype: float64\n"
     ]
    }
   ],
   "source": [
    "print(data['volatile acidity'].head())"
   ]
  },
  {
   "cell_type": "code",
   "execution_count": 11,
   "metadata": {},
   "outputs": [
    {
     "name": "stdout",
     "output_type": "stream",
     "text": [
      "(1599, 12)\n"
     ]
    }
   ],
   "source": [
    "print data.shape"
   ]
  },
  {
   "cell_type": "code",
   "execution_count": 12,
   "metadata": {},
   "outputs": [
    {
     "name": "stdout",
     "output_type": "stream",
     "text": [
      "       fixed acidity  volatile acidity  citric acid  residual sugar  \\\n",
      "count    1599.000000       1599.000000  1599.000000     1599.000000   \n",
      "mean        8.319637          0.527821     0.270976        2.538806   \n",
      "std         1.741096          0.179060     0.194801        1.409928   \n",
      "min         4.600000          0.120000     0.000000        0.900000   \n",
      "25%         7.100000          0.390000     0.090000        1.900000   \n",
      "50%         7.900000          0.520000     0.260000        2.200000   \n",
      "75%         9.200000          0.640000     0.420000        2.600000   \n",
      "max        15.900000          1.580000     1.000000       15.500000   \n",
      "\n",
      "         chlorides  free sulfur dioxide  total sulfur dioxide      density  \\\n",
      "count  1599.000000          1599.000000           1599.000000  1599.000000   \n",
      "mean      0.087467            15.874922             46.467792     0.996747   \n",
      "std       0.047065            10.460157             32.895324     0.001887   \n",
      "min       0.012000             1.000000              6.000000     0.990070   \n",
      "25%       0.070000             7.000000             22.000000     0.995600   \n",
      "50%       0.079000            14.000000             38.000000     0.996750   \n",
      "75%       0.090000            21.000000             62.000000     0.997835   \n",
      "max       0.611000            72.000000            289.000000     1.003690   \n",
      "\n",
      "                pH    sulphates      alcohol      quality  \n",
      "count  1599.000000  1599.000000  1599.000000  1599.000000  \n",
      "mean      3.311113     0.658149    10.422983     5.636023  \n",
      "std       0.154386     0.169507     1.065668     0.807569  \n",
      "min       2.740000     0.330000     8.400000     3.000000  \n",
      "25%       3.210000     0.550000     9.500000     5.000000  \n",
      "50%       3.310000     0.620000    10.200000     6.000000  \n",
      "75%       3.400000     0.730000    11.100000     6.000000  \n",
      "max       4.010000     2.000000    14.900000     8.000000  \n"
     ]
    }
   ],
   "source": [
    "print data.describe()"
   ]
  },
  {
   "cell_type": "code",
   "execution_count": 17,
   "metadata": {
    "collapsed": true
   },
   "outputs": [],
   "source": [
    "y=data.quality\n",
    "x=data.drop('quality', axis=1)"
   ]
  },
  {
   "cell_type": "code",
   "execution_count": 18,
   "metadata": {},
   "outputs": [],
   "source": [
    "from sklearn.model_selection import train_test_split\n",
    "X_train, X_test, y_train, y_test = train_test_split(x, y, test_size=0.2, random_state=123, stratify=y)"
   ]
  },
  {
   "cell_type": "code",
   "execution_count": 21,
   "metadata": {},
   "outputs": [
    {
     "name": "stdout",
     "output_type": "stream",
     "text": [
      "[[ 0.51358886  2.19680282 -0.164433   ...,  1.08415147 -0.69866131\n",
      "  -0.58608178]\n",
      " [-1.73698885 -0.31792985 -0.82867679 ...,  1.46964764  1.2491516\n",
      "   2.97009781]\n",
      " [-0.35201795  0.46443143 -0.47100705 ..., -0.13658641 -0.35492962\n",
      "  -0.20843439]\n",
      " ..., \n",
      " [-0.98679628  1.10708533 -0.93086814 ...,  0.24890976 -0.98510439\n",
      "   0.35803669]\n",
      " [-0.69826067  0.46443143 -1.28853787 ...,  1.08415147 -0.35492962\n",
      "  -0.68049363]\n",
      " [ 3.1104093  -0.62528606  2.08377675 ..., -1.61432173  0.79084268\n",
      "  -0.39725809]]\n"
     ]
    }
   ],
   "source": [
    "from sklearn import preprocessing\n",
    "X_train_scaled = preprocessing.scale(X_train)\n",
    "print X_train_scaled"
   ]
  },
  {
   "cell_type": "code",
   "execution_count": 22,
   "metadata": {
    "collapsed": true
   },
   "outputs": [],
   "source": [
    "scaler = preprocessing.StandardScaler().fit(X_train)"
   ]
  },
  {
   "cell_type": "code",
   "execution_count": 27,
   "metadata": {},
   "outputs": [],
   "source": [
    "X_train_scaled = scaler.transform(X_train)"
   ]
  },
  {
   "cell_type": "code",
   "execution_count": 28,
   "metadata": {},
   "outputs": [
    {
     "name": "stdout",
     "output_type": "stream",
     "text": [
      "[  1.16664562e-16  -3.05550043e-17  -8.47206937e-17  -2.22218213e-17\n",
      "   2.22218213e-17  -6.38877362e-17  -4.16659149e-18  -2.54439854e-15\n",
      "  -8.70817622e-16  -4.08325966e-16  -1.17220107e-15]\n"
     ]
    }
   ],
   "source": [
    "print X_train_scaled.mean(axis=0)"
   ]
  },
  {
   "cell_type": "code",
   "execution_count": 25,
   "metadata": {},
   "outputs": [
    {
     "name": "stdout",
     "output_type": "stream",
     "text": [
      "[ 1.  1.  1.  1.  1.  1.  1.  1.  1.  1.  1.]\n"
     ]
    }
   ],
   "source": [
    "print X_train_scaled.std(axis=0)"
   ]
  },
  {
   "cell_type": "code",
   "execution_count": 30,
   "metadata": {
    "collapsed": true
   },
   "outputs": [],
   "source": [
    "X_test_scaled = scaler.transform(X_test)"
   ]
  },
  {
   "cell_type": "code",
   "execution_count": 31,
   "metadata": {},
   "outputs": [
    {
     "name": "stdout",
     "output_type": "stream",
     "text": [
      "[ 0.02776704  0.02592492 -0.03078587 -0.03137977 -0.00471876 -0.04413827\n",
      " -0.02414174 -0.00293273 -0.00467444 -0.10894663  0.01043391]\n"
     ]
    }
   ],
   "source": [
    "print X_test_scaled.mean(axis=0)"
   ]
  },
  {
   "cell_type": "code",
   "execution_count": 32,
   "metadata": {},
   "outputs": [
    {
     "name": "stdout",
     "output_type": "stream",
     "text": [
      "[ 1.02160495  1.00135689  0.97456598  0.91099054  0.86716698  0.94193125\n",
      "  1.03673213  1.03145119  0.95734849  0.83829505  1.0286218 ]\n"
     ]
    }
   ],
   "source": [
    "print X_test_scaled.std(axis=0)"
   ]
  },
  {
   "cell_type": "code",
   "execution_count": 35,
   "metadata": {},
   "outputs": [
    {
     "name": "stdout",
     "output_type": "stream",
     "text": [
      "{'randomforestregressor__min_samples_leaf': 1, 'randomforestregressor__max_leaf_nodes': None, 'randomforestregressor__max_features': 'auto', 'randomforestregressor__min_impurity_split': None, 'standardscaler__copy': True, 'randomforestregressor__oob_score': False, 'randomforestregressor__min_weight_fraction_leaf': 0.0, 'randomforestregressor__min_samples_split': 2, 'memory': None, 'randomforestregressor__min_impurity_decrease': 0.0, 'standardscaler': StandardScaler(copy=True, with_mean=True, with_std=True), 'randomforestregressor__random_state': None, 'standardscaler__with_mean': True, 'randomforestregressor__criterion': 'mse', 'randomforestregressor': RandomForestRegressor(bootstrap=True, criterion='mse', max_depth=None,\n",
      "           max_features='auto', max_leaf_nodes=None,\n",
      "           min_impurity_decrease=0.0, min_impurity_split=None,\n",
      "           min_samples_leaf=1, min_samples_split=2,\n",
      "           min_weight_fraction_leaf=0.0, n_estimators=100, n_jobs=1,\n",
      "           oob_score=False, random_state=None, verbose=0, warm_start=False), 'randomforestregressor__max_depth': None, 'standardscaler__with_std': True, 'randomforestregressor__bootstrap': True, 'randomforestregressor__warm_start': False, 'randomforestregressor__n_jobs': 1, 'randomforestregressor__verbose': 0, 'steps': [('standardscaler', StandardScaler(copy=True, with_mean=True, with_std=True)), ('randomforestregressor', RandomForestRegressor(bootstrap=True, criterion='mse', max_depth=None,\n",
      "           max_features='auto', max_leaf_nodes=None,\n",
      "           min_impurity_decrease=0.0, min_impurity_split=None,\n",
      "           min_samples_leaf=1, min_samples_split=2,\n",
      "           min_weight_fraction_leaf=0.0, n_estimators=100, n_jobs=1,\n",
      "           oob_score=False, random_state=None, verbose=0, warm_start=False))], 'randomforestregressor__n_estimators': 100}\n"
     ]
    }
   ],
   "source": [
    "from sklearn.ensemble import RandomForestRegressor\n",
    "from sklearn.pipeline import make_pipeline\n",
    "from sklearn.model_selection import GridSearchCV\n",
    "pipeline = make_pipeline(preprocessing.StandardScaler(), RandomForestRegressor(n_estimators=100))\n",
    "print pipeline.get_params()"
   ]
  },
  {
   "cell_type": "code",
   "execution_count": 36,
   "metadata": {
    "collapsed": true
   },
   "outputs": [],
   "source": [
    "hyperparameters = { 'randomforestregressor__max_features' : ['auto', 'sqrt', 'log2'],'randomforestregressor__max_depth': [None, 5, 3, 1]}"
   ]
  },
  {
   "cell_type": "code",
   "execution_count": 37,
   "metadata": {},
   "outputs": [
    {
     "data": {
      "text/plain": [
       "GridSearchCV(cv=10, error_score='raise',\n",
       "       estimator=Pipeline(memory=None,\n",
       "     steps=[('standardscaler', StandardScaler(copy=True, with_mean=True, with_std=True)), ('randomforestregressor', RandomForestRegressor(bootstrap=True, criterion='mse', max_depth=None,\n",
       "           max_features='auto', max_leaf_nodes=None,\n",
       "           min_impurity_decr...mators=100, n_jobs=1,\n",
       "           oob_score=False, random_state=None, verbose=0, warm_start=False))]),\n",
       "       fit_params=None, iid=True, n_jobs=1,\n",
       "       param_grid={'randomforestregressor__max_depth': [None, 5, 3, 1], 'randomforestregressor__max_features': ['auto', 'sqrt', 'log2']},\n",
       "       pre_dispatch='2*n_jobs', refit=True, return_train_score='warn',\n",
       "       scoring=None, verbose=0)"
      ]
     },
     "execution_count": 37,
     "metadata": {},
     "output_type": "execute_result"
    }
   ],
   "source": [
    "from sklearn.metrics import mean_squared_error, r2_score\n",
    "from sklearn.externals import joblib\n",
    "clf = GridSearchCV(pipeline, hyperparameters, cv=10)\n",
    " \n",
    "# Fit and tune model\n",
    "clf.fit(X_train, y_train)"
   ]
  },
  {
   "cell_type": "code",
   "execution_count": 39,
   "metadata": {},
   "outputs": [
    {
     "name": "stdout",
     "output_type": "stream",
     "text": [
      "{'randomforestregressor__max_depth': None, 'randomforestregressor__max_features': 'auto'}\n"
     ]
    }
   ],
   "source": [
    "print clf.best_params_"
   ]
  },
  {
   "cell_type": "code",
   "execution_count": 40,
   "metadata": {},
   "outputs": [
    {
     "name": "stdout",
     "output_type": "stream",
     "text": [
      "True\n"
     ]
    }
   ],
   "source": [
    "print clf.refit"
   ]
  },
  {
   "cell_type": "code",
   "execution_count": 41,
   "metadata": {
    "collapsed": true
   },
   "outputs": [],
   "source": [
    "y_pred = clf.predict(X_test)"
   ]
  },
  {
   "cell_type": "code",
   "execution_count": 46,
   "metadata": {},
   "outputs": [
    {
     "name": "stdout",
     "output_type": "stream",
     "text": [
      "[ 6.54  5.81  4.96  5.57  6.4   5.84  4.87  4.63  5.    6.01  5.22  5.82\n",
      "  5.63  5.07  5.8   5.71  6.7   5.77  5.77  6.96  5.62  5.68  5.03  5.97\n",
      "  5.95  5.06  5.52  5.11  6.    6.02  5.84  6.67  5.98  5.04  4.93  5.95\n",
      "  5.02  5.85  5.04  5.6   4.9   6.07  6.86  5.05  6.18  5.46  5.55  5.45\n",
      "  5.18  6.51  6.03  5.24  5.84  5.23  5.64  5.84  5.16  5.39  4.94  5.32\n",
      "  5.27  5.24  5.05  5.82  5.95  5.33  6.39  5.03  5.14  6.71  5.8   5.53\n",
      "  5.04  5.04  5.35  6.01  5.29  5.07  5.29  5.29  6.62  5.56  6.42  6.66\n",
      "  5.13  5.83  6.48  6.21  5.46  5.78  5.9   5.38  6.52  5.55  5.72  5.88\n",
      "  6.62  6.71  5.45  6.83  5.06  5.37  5.11  6.44  5.09  4.76  5.74  5.15\n",
      "  5.68  5.99  5.72  5.47  6.19  5.49  4.89  5.24  6.    5.02  5.01  6.\n",
      "  5.79  5.1   5.8   5.94  5.29  5.32  5.2   6.    5.54  5.46  5.78  6.19\n",
      "  5.1   5.22  5.02  6.54  5.01  5.13  6.73  5.49  5.21  5.11  5.77  6.09\n",
      "  5.35  5.49  5.14  6.67  5.51  5.09  5.59  5.13  4.86  4.99  5.21  5.95\n",
      "  5.32  5.72  5.81  5.27  5.6   5.2   5.36  6.05  5.02  5.97  5.15  5.12\n",
      "  5.49  5.14  5.63  4.82  5.67  5.01  5.72  5.44  5.03  5.41  5.61  5.03\n",
      "  6.08  5.61  5.02  4.96  5.22  6.09  5.19  5.54  5.3   4.91  5.53  6.56\n",
      "  5.8   5.89  5.36  5.17  5.55  5.06  6.08  4.63  6.26  5.07  5.23  5.2\n",
      "  6.92  6.04  5.37  5.17  5.42  5.95  5.95  5.95  5.95  6.39  5.74  5.99\n",
      "  5.24  5.26  5.61  5.2   5.17  5.87  6.12  5.71  6.    5.85  5.55  6.49\n",
      "  5.41  5.72  5.4   5.54  6.24  5.86  4.95  4.31  6.91  6.64  6.45  5.15\n",
      "  5.38  5.52  5.41  6.31  5.87  5.24  5.06  5.51  5.13  6.52  5.1   5.04\n",
      "  5.24  5.    5.79  6.55  5.74  5.33  5.57  6.4   5.48  6.04  5.19  4.89\n",
      "  5.84  5.94  5.93  5.64  5.38  5.01  5.66  5.52  6.38  6.18  5.7   4.96\n",
      "  6.01  6.76  5.9   5.36  5.7   5.31  5.37  6.06  6.91  5.29  6.79  5.86\n",
      "  5.32  5.34  5.97  5.14  5.13  6.19  5.74  6.01  5.9   5.85  5.49  5.51\n",
      "  5.66  6.1   5.46  6.96  6.9   6.02  6.18  5.09  5.32  5.95  5.29  5.41\n",
      "  5.66  6.68  6.74  5.31  5.55  5.63  6.08  5.64]\n"
     ]
    }
   ],
   "source": [
    "print y_pred"
   ]
  },
  {
   "cell_type": "code",
   "execution_count": 48,
   "metadata": {},
   "outputs": [
    {
     "name": "stdout",
     "output_type": "stream",
     "text": [
      "0.461689448514\n"
     ]
    }
   ],
   "source": [
    "print r2_score(y_test, y_pred)"
   ]
  },
  {
   "cell_type": "code",
   "execution_count": 43,
   "metadata": {},
   "outputs": [
    {
     "name": "stdout",
     "output_type": "stream",
     "text": [
      "0.3473575\n"
     ]
    }
   ],
   "source": [
    "print mean_squared_error(y_test, y_pred)"
   ]
  },
  {
   "cell_type": "code",
   "execution_count": 44,
   "metadata": {},
   "outputs": [
    {
     "data": {
      "text/plain": [
       "['rf_regressor.pkl']"
      ]
     },
     "execution_count": 44,
     "metadata": {},
     "output_type": "execute_result"
    }
   ],
   "source": [
    "joblib.dump(clf, 'rf_regressor.pkl')"
   ]
  },
  {
   "cell_type": "code",
   "execution_count": 45,
   "metadata": {},
   "outputs": [
    {
     "data": {
      "text/plain": [
       "array([ 6.54,  5.81,  4.96,  5.57,  6.4 ,  5.84,  4.87,  4.63,  5.  ,\n",
       "        6.01,  5.22,  5.82,  5.63,  5.07,  5.8 ,  5.71,  6.7 ,  5.77,\n",
       "        5.77,  6.96,  5.62,  5.68,  5.03,  5.97,  5.95,  5.06,  5.52,\n",
       "        5.11,  6.  ,  6.02,  5.84,  6.67,  5.98,  5.04,  4.93,  5.95,\n",
       "        5.02,  5.85,  5.04,  5.6 ,  4.9 ,  6.07,  6.86,  5.05,  6.18,\n",
       "        5.46,  5.55,  5.45,  5.18,  6.51,  6.03,  5.24,  5.84,  5.23,\n",
       "        5.64,  5.84,  5.16,  5.39,  4.94,  5.32,  5.27,  5.24,  5.05,\n",
       "        5.82,  5.95,  5.33,  6.39,  5.03,  5.14,  6.71,  5.8 ,  5.53,\n",
       "        5.04,  5.04,  5.35,  6.01,  5.29,  5.07,  5.29,  5.29,  6.62,\n",
       "        5.56,  6.42,  6.66,  5.13,  5.83,  6.48,  6.21,  5.46,  5.78,\n",
       "        5.9 ,  5.38,  6.52,  5.55,  5.72,  5.88,  6.62,  6.71,  5.45,\n",
       "        6.83,  5.06,  5.37,  5.11,  6.44,  5.09,  4.76,  5.74,  5.15,\n",
       "        5.68,  5.99,  5.72,  5.47,  6.19,  5.49,  4.89,  5.24,  6.  ,\n",
       "        5.02,  5.01,  6.  ,  5.79,  5.1 ,  5.8 ,  5.94,  5.29,  5.32,\n",
       "        5.2 ,  6.  ,  5.54,  5.46,  5.78,  6.19,  5.1 ,  5.22,  5.02,\n",
       "        6.54,  5.01,  5.13,  6.73,  5.49,  5.21,  5.11,  5.77,  6.09,\n",
       "        5.35,  5.49,  5.14,  6.67,  5.51,  5.09,  5.59,  5.13,  4.86,\n",
       "        4.99,  5.21,  5.95,  5.32,  5.72,  5.81,  5.27,  5.6 ,  5.2 ,\n",
       "        5.36,  6.05,  5.02,  5.97,  5.15,  5.12,  5.49,  5.14,  5.63,\n",
       "        4.82,  5.67,  5.01,  5.72,  5.44,  5.03,  5.41,  5.61,  5.03,\n",
       "        6.08,  5.61,  5.02,  4.96,  5.22,  6.09,  5.19,  5.54,  5.3 ,\n",
       "        4.91,  5.53,  6.56,  5.8 ,  5.89,  5.36,  5.17,  5.55,  5.06,\n",
       "        6.08,  4.63,  6.26,  5.07,  5.23,  5.2 ,  6.92,  6.04,  5.37,\n",
       "        5.17,  5.42,  5.95,  5.95,  5.95,  5.95,  6.39,  5.74,  5.99,\n",
       "        5.24,  5.26,  5.61,  5.2 ,  5.17,  5.87,  6.12,  5.71,  6.  ,\n",
       "        5.85,  5.55,  6.49,  5.41,  5.72,  5.4 ,  5.54,  6.24,  5.86,\n",
       "        4.95,  4.31,  6.91,  6.64,  6.45,  5.15,  5.38,  5.52,  5.41,\n",
       "        6.31,  5.87,  5.24,  5.06,  5.51,  5.13,  6.52,  5.1 ,  5.04,\n",
       "        5.24,  5.  ,  5.79,  6.55,  5.74,  5.33,  5.57,  6.4 ,  5.48,\n",
       "        6.04,  5.19,  4.89,  5.84,  5.94,  5.93,  5.64,  5.38,  5.01,\n",
       "        5.66,  5.52,  6.38,  6.18,  5.7 ,  4.96,  6.01,  6.76,  5.9 ,\n",
       "        5.36,  5.7 ,  5.31,  5.37,  6.06,  6.91,  5.29,  6.79,  5.86,\n",
       "        5.32,  5.34,  5.97,  5.14,  5.13,  6.19,  5.74,  6.01,  5.9 ,\n",
       "        5.85,  5.49,  5.51,  5.66,  6.1 ,  5.46,  6.96,  6.9 ,  6.02,\n",
       "        6.18,  5.09,  5.32,  5.95,  5.29,  5.41,  5.66,  6.68,  6.74,\n",
       "        5.31,  5.55,  5.63,  6.08,  5.64])"
      ]
     },
     "execution_count": 45,
     "metadata": {},
     "output_type": "execute_result"
    }
   ],
   "source": [
    "clf2 = joblib.load('rf_regressor.pkl')\n",
    " \n",
    "# Predict data set using loaded model\n",
    "clf2.predict(X_test)"
   ]
  }
 ],
 "metadata": {
  "kernelspec": {
   "display_name": "Python 2",
   "language": "python",
   "name": "python2"
  },
  "language_info": {
   "codemirror_mode": {
    "name": "ipython",
    "version": 2
   },
   "file_extension": ".py",
   "mimetype": "text/x-python",
   "name": "python",
   "nbconvert_exporter": "python",
   "pygments_lexer": "ipython2",
   "version": "2.7.14"
  }
 },
 "nbformat": 4,
 "nbformat_minor": 2
}
